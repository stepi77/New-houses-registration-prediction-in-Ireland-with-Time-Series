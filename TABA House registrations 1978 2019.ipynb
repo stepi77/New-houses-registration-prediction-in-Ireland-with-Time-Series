{
 "cells": [
  {
   "cell_type": "markdown",
   "metadata": {},
   "source": [
    "# New house registration in Ireland\n",
    "\n",
    "Abstract: \n",
    "\n",
    "The aim of this analysis is to assess the components of the \n",
    "time series of the New House Registration dataset, implement \n",
    "some models, run the relevant diagnostic tests and choose the \n",
    "best model. From the models the forecasting will be executed \n",
    "with illustrative graphics and an assessment of the best model \n",
    "will be provided. \n",
    "\n",
    "Conclusion:\n",
    "\n",
    "In this analysis we run 3 predictive models:\n",
    "- Mean model.\n",
    "- Exponential smoothing model.\n",
    "- Arima model (auto version).\n",
    "The mean model needs to be excluded because the \n",
    "distribution of the errors is not normal and the MAE is really \n",
    "too high (14062.6507936508).\n",
    "The remaining models, have a normal distribution of the \n",
    "residuals, except for some outliers that we expected because \n",
    "we have included in the model the whole dataset. \n",
    "However, the Autoarima model has a smaller MAE and a \n",
    "RMSE and for this reason is the model chosen.\n"
   ]
  },
  {
   "cell_type": "code",
   "execution_count": null,
   "metadata": {},
   "outputs": [],
   "source": [
    "house <- read.csv('NewHouseRegistrations_Ireland.csv')"
   ]
  },
  {
   "cell_type": "code",
   "execution_count": 12,
   "metadata": {},
   "outputs": [
    {
     "data": {
      "text/html": [
       "<table class=\"dataframe\">\n",
       "<caption>A data.frame: 6 × 2</caption>\n",
       "<thead>\n",
       "\t<tr><th></th><th scope=col>ï..Year</th><th scope=col>NewHouseRegistrations</th></tr>\n",
       "\t<tr><th></th><th scope=col>&lt;int&gt;</th><th scope=col>&lt;int&gt;</th></tr>\n",
       "</thead>\n",
       "<tbody>\n",
       "\t<tr><th scope=row>1</th><td>1978</td><td> 3781</td></tr>\n",
       "\t<tr><th scope=row>2</th><td>1979</td><td> 5565</td></tr>\n",
       "\t<tr><th scope=row>3</th><td>1980</td><td> 9609</td></tr>\n",
       "\t<tr><th scope=row>4</th><td>1981</td><td>10785</td></tr>\n",
       "\t<tr><th scope=row>5</th><td>1982</td><td> 9448</td></tr>\n",
       "\t<tr><th scope=row>6</th><td>1983</td><td>10830</td></tr>\n",
       "</tbody>\n",
       "</table>\n"
      ],
      "text/latex": [
       "A data.frame: 6 × 2\n",
       "\\begin{tabular}{r|ll}\n",
       "  & ï..Year & NewHouseRegistrations\\\\\n",
       "  & <int> & <int>\\\\\n",
       "\\hline\n",
       "\t1 & 1978 &  3781\\\\\n",
       "\t2 & 1979 &  5565\\\\\n",
       "\t3 & 1980 &  9609\\\\\n",
       "\t4 & 1981 & 10785\\\\\n",
       "\t5 & 1982 &  9448\\\\\n",
       "\t6 & 1983 & 10830\\\\\n",
       "\\end{tabular}\n"
      ],
      "text/markdown": [
       "\n",
       "A data.frame: 6 × 2\n",
       "\n",
       "| <!--/--> | ï..Year &lt;int&gt; | NewHouseRegistrations &lt;int&gt; |\n",
       "|---|---|---|\n",
       "| 1 | 1978 |  3781 |\n",
       "| 2 | 1979 |  5565 |\n",
       "| 3 | 1980 |  9609 |\n",
       "| 4 | 1981 | 10785 |\n",
       "| 5 | 1982 |  9448 |\n",
       "| 6 | 1983 | 10830 |\n",
       "\n"
      ],
      "text/plain": [
       "  ï..Year NewHouseRegistrations\n",
       "1 1978     3781                \n",
       "2 1979     5565                \n",
       "3 1980     9609                \n",
       "4 1981    10785                \n",
       "5 1982     9448                \n",
       "6 1983    10830                "
      ]
     },
     "metadata": {},
     "output_type": "display_data"
    }
   ],
   "source": [
    "head(house)"
   ]
  },
  {
   "cell_type": "code",
   "execution_count": 13,
   "metadata": {},
   "outputs": [],
   "source": [
    "colnames(house)[1] <- \"year\""
   ]
  },
  {
   "cell_type": "code",
   "execution_count": 14,
   "metadata": {},
   "outputs": [
    {
     "data": {
      "text/html": [
       "<table class=\"dataframe\">\n",
       "<caption>A data.frame: 6 × 2</caption>\n",
       "<thead>\n",
       "\t<tr><th></th><th scope=col>year</th><th scope=col>NewHouseRegistrations</th></tr>\n",
       "\t<tr><th></th><th scope=col>&lt;int&gt;</th><th scope=col>&lt;int&gt;</th></tr>\n",
       "</thead>\n",
       "<tbody>\n",
       "\t<tr><th scope=row>1</th><td>1978</td><td> 3781</td></tr>\n",
       "\t<tr><th scope=row>2</th><td>1979</td><td> 5565</td></tr>\n",
       "\t<tr><th scope=row>3</th><td>1980</td><td> 9609</td></tr>\n",
       "\t<tr><th scope=row>4</th><td>1981</td><td>10785</td></tr>\n",
       "\t<tr><th scope=row>5</th><td>1982</td><td> 9448</td></tr>\n",
       "\t<tr><th scope=row>6</th><td>1983</td><td>10830</td></tr>\n",
       "</tbody>\n",
       "</table>\n"
      ],
      "text/latex": [
       "A data.frame: 6 × 2\n",
       "\\begin{tabular}{r|ll}\n",
       "  & year & NewHouseRegistrations\\\\\n",
       "  & <int> & <int>\\\\\n",
       "\\hline\n",
       "\t1 & 1978 &  3781\\\\\n",
       "\t2 & 1979 &  5565\\\\\n",
       "\t3 & 1980 &  9609\\\\\n",
       "\t4 & 1981 & 10785\\\\\n",
       "\t5 & 1982 &  9448\\\\\n",
       "\t6 & 1983 & 10830\\\\\n",
       "\\end{tabular}\n"
      ],
      "text/markdown": [
       "\n",
       "A data.frame: 6 × 2\n",
       "\n",
       "| <!--/--> | year &lt;int&gt; | NewHouseRegistrations &lt;int&gt; |\n",
       "|---|---|---|\n",
       "| 1 | 1978 |  3781 |\n",
       "| 2 | 1979 |  5565 |\n",
       "| 3 | 1980 |  9609 |\n",
       "| 4 | 1981 | 10785 |\n",
       "| 5 | 1982 |  9448 |\n",
       "| 6 | 1983 | 10830 |\n",
       "\n"
      ],
      "text/plain": [
       "  year NewHouseRegistrations\n",
       "1 1978  3781                \n",
       "2 1979  5565                \n",
       "3 1980  9609                \n",
       "4 1981 10785                \n",
       "5 1982  9448                \n",
       "6 1983 10830                "
      ]
     },
     "metadata": {},
     "output_type": "display_data"
    }
   ],
   "source": [
    "head(house)"
   ]
  },
  {
   "cell_type": "code",
   "execution_count": 15,
   "metadata": {},
   "outputs": [],
   "source": [
    "tshouse<-ts(house['NewHouseRegistrations'], start=1978, frequency=1)"
   ]
  },
  {
   "cell_type": "code",
   "execution_count": 16,
   "metadata": {},
   "outputs": [
    {
     "data": {
      "text/html": [
       "<table class=\"dataframe\">\n",
       "<caption>A matrix: 6 × 1 of type int</caption>\n",
       "<thead>\n",
       "\t<tr><th scope=col>NewHouseRegistrations</th></tr>\n",
       "</thead>\n",
       "<tbody>\n",
       "\t<tr><td> 3781</td></tr>\n",
       "\t<tr><td> 5565</td></tr>\n",
       "\t<tr><td> 9609</td></tr>\n",
       "\t<tr><td>10785</td></tr>\n",
       "\t<tr><td> 9448</td></tr>\n",
       "\t<tr><td>10830</td></tr>\n",
       "</tbody>\n",
       "</table>\n"
      ],
      "text/latex": [
       "A matrix: 6 × 1 of type int\n",
       "\\begin{tabular}{l}\n",
       " NewHouseRegistrations\\\\\n",
       "\\hline\n",
       "\t  3781\\\\\n",
       "\t  5565\\\\\n",
       "\t  9609\\\\\n",
       "\t 10785\\\\\n",
       "\t  9448\\\\\n",
       "\t 10830\\\\\n",
       "\\end{tabular}\n"
      ],
      "text/markdown": [
       "\n",
       "A matrix: 6 × 1 of type int\n",
       "\n",
       "| NewHouseRegistrations |\n",
       "|---|\n",
       "|  3781 |\n",
       "|  5565 |\n",
       "|  9609 |\n",
       "| 10785 |\n",
       "|  9448 |\n",
       "| 10830 |\n",
       "\n"
      ],
      "text/plain": [
       "     NewHouseRegistrations\n",
       "[1,]  3781                \n",
       "[2,]  5565                \n",
       "[3,]  9609                \n",
       "[4,] 10785                \n",
       "[5,]  9448                \n",
       "[6,] 10830                "
      ]
     },
     "metadata": {},
     "output_type": "display_data"
    }
   ],
   "source": [
    "head(tshouse)"
   ]
  },
  {
   "cell_type": "code",
   "execution_count": 17,
   "metadata": {},
   "outputs": [
    {
     "data": {
      "text/html": [
       "<style>\n",
       ".list-inline {list-style: none; margin:0; padding: 0}\n",
       ".list-inline>li {display: inline-block}\n",
       ".list-inline>li:not(:last-child)::after {content: \"\\00b7\"; padding: 0 .5ex}\n",
       "</style>\n",
       "<ol class=list-inline><li>2019</li><li>1</li></ol>\n"
      ],
      "text/latex": [
       "\\begin{enumerate*}\n",
       "\\item 2019\n",
       "\\item 1\n",
       "\\end{enumerate*}\n"
      ],
      "text/markdown": [
       "1. 2019\n",
       "2. 1\n",
       "\n",
       "\n"
      ],
      "text/plain": [
       "[1] 2019    1"
      ]
     },
     "metadata": {},
     "output_type": "display_data"
    }
   ],
   "source": [
    "end(tshouse)"
   ]
  },
  {
   "cell_type": "code",
   "execution_count": 18,
   "metadata": {
    "scrolled": true
   },
   "outputs": [
    {
     "data": {
      "image/png": "[encoded data removed]",
      "text/plain": [
       "Plot with title \"Plot of the New House Registrations\""
      ]
     },
     "metadata": {
      "image/png": {
       "height": 420,
       "width": 420
      }
     },
     "output_type": "display_data"
    }
   ],
   "source": [
    "plot(house, main=\"Plot of the New House Registrations\")"
   ]
  },
  {
   "cell_type": "markdown",
   "metadata": {},
   "source": [
    "# fino al 2007"
   ]
  },
  {
   "cell_type": "code",
   "execution_count": 19,
   "metadata": {},
   "outputs": [],
   "source": [
    "fhouse <- house[ house$year <2007, ]"
   ]
  },
  {
   "cell_type": "code",
   "execution_count": 20,
   "metadata": {},
   "outputs": [],
   "source": [
    "fhouse<-fhouse['NewHouseRegistrations']"
   ]
  },
  {
   "cell_type": "code",
   "execution_count": 21,
   "metadata": {},
   "outputs": [],
   "source": [
    "fhouse <- ts(fhouse, start=c(1978), frequency=1)"
   ]
  },
  {
   "cell_type": "code",
   "execution_count": 22,
   "metadata": {},
   "outputs": [
    {
     "data": {
      "text/html": [
       "'ts'"
      ],
      "text/latex": [
       "'ts'"
      ],
      "text/markdown": [
       "'ts'"
      ],
      "text/plain": [
       "[1] \"ts\""
      ]
     },
     "metadata": {},
     "output_type": "display_data"
    }
   ],
   "source": [
    "class(fhouse)                                             "
   ]
  },
  {
   "cell_type": "code",
   "execution_count": 23,
   "metadata": {},
   "outputs": [
    {
     "data": {
      "text/html": [
       "<style>\n",
       ".list-inline {list-style: none; margin:0; padding: 0}\n",
       ".list-inline>li {display: inline-block}\n",
       ".list-inline>li:not(:last-child)::after {content: \"\\00b7\"; padding: 0 .5ex}\n",
       "</style>\n",
       "<ol class=list-inline><li>1978</li><li>1</li></ol>\n"
      ],
      "text/latex": [
       "\\begin{enumerate*}\n",
       "\\item 1978\n",
       "\\item 1\n",
       "\\end{enumerate*}\n"
      ],
      "text/markdown": [
       "1. 1978\n",
       "2. 1\n",
       "\n",
       "\n"
      ],
      "text/plain": [
       "[1] 1978    1"
      ]
     },
     "metadata": {},
     "output_type": "display_data"
    }
   ],
   "source": [
    "start(fhouse)"
   ]
  },
  {
   "cell_type": "code",
   "execution_count": 24,
   "metadata": {},
   "outputs": [
    {
     "data": {
      "text/html": [
       "<style>\n",
       ".list-inline {list-style: none; margin:0; padding: 0}\n",
       ".list-inline>li {display: inline-block}\n",
       ".list-inline>li:not(:last-child)::after {content: \"\\00b7\"; padding: 0 .5ex}\n",
       "</style>\n",
       "<ol class=list-inline><li>2006</li><li>1</li></ol>\n"
      ],
      "text/latex": [
       "\\begin{enumerate*}\n",
       "\\item 2006\n",
       "\\item 1\n",
       "\\end{enumerate*}\n"
      ],
      "text/markdown": [
       "1. 2006\n",
       "2. 1\n",
       "\n",
       "\n"
      ],
      "text/plain": [
       "[1] 2006    1"
      ]
     },
     "metadata": {},
     "output_type": "display_data"
    }
   ],
   "source": [
    "end(fhouse)"
   ]
  },
  {
   "cell_type": "code",
   "execution_count": 25,
   "metadata": {},
   "outputs": [
    {
     "data": {
      "text/html": [
       "1"
      ],
      "text/latex": [
       "1"
      ],
      "text/markdown": [
       "1"
      ],
      "text/plain": [
       "[1] 1"
      ]
     },
     "metadata": {},
     "output_type": "display_data"
    }
   ],
   "source": [
    "frequency(fhouse)"
   ]
  },
  {
   "cell_type": "code",
   "execution_count": 26,
   "metadata": {
    "scrolled": false
   },
   "outputs": [
    {
     "data": {
      "image/png": "[encoded data removed]",
      "text/plain": [
       "plot without title"
      ]
     },
     "metadata": {
      "image/png": {
       "height": 420,
       "width": 420
      }
     },
     "output_type": "display_data"
    }
   ],
   "source": [
    "plot(fhouse)"
   ]
  },
  {
   "cell_type": "markdown",
   "metadata": {},
   "source": [
    "The boxplot per year shows us the pattern of the yearly cycle (**Note:** `cycle` is a utility that numbers the data items cyclic according to frequency)"
   ]
  },
  {
   "cell_type": "code",
   "execution_count": 27,
   "metadata": {},
   "outputs": [
    {
     "data": {
      "image/png": "[encoded data removed]",
      "text/plain": [
       "plot without title"
      ]
     },
     "metadata": {
      "image/png": {
       "height": 420,
       "width": 420
      }
     },
     "output_type": "display_data"
    }
   ],
   "source": [
    "boxplot(fhouse~cycle(fhouse), col='lightblue')"
   ]
  },
  {
   "cell_type": "markdown",
   "metadata": {},
   "source": [
    "The boxplot per year gives us a summary of the trend over the years. (**Note:** Time is a floating point variable that interpolates the time interval between the years. `floor` cuts it down to the actual year.)"
   ]
  },
  {
   "cell_type": "code",
   "execution_count": 28,
   "metadata": {},
   "outputs": [
    {
     "data": {
      "image/png": "[encoded data removed]",
      "text/plain": [
       "plot without title"
      ]
     },
     "metadata": {
      "image/png": {
       "height": 420,
       "width": 420
      }
     },
     "output_type": "display_data"
    }
   ],
   "source": [
    "boxplot(fhouse~floor(time(fhouse)), col='lightblue') "
   ]
  },
  {
   "cell_type": "markdown",
   "metadata": {},
   "source": [
    "# Fine paragrafo fino al 2007 forse da cancellare"
   ]
  },
  {
   "cell_type": "markdown",
   "metadata": {},
   "source": [
    "# Seasonal Plots"
   ]
  },
  {
   "cell_type": "code",
   "execution_count": 19,
   "metadata": {},
   "outputs": [
    {
     "name": "stderr",
     "output_type": "stream",
     "text": [
      "Warning message:\n",
      "\"package 'fpp2' was built under R version 4.0.4\"\n",
      "Registered S3 method overwritten by 'quantmod':\n",
      "  method            from\n",
      "  as.zoo.data.frame zoo \n",
      "\n",
      "-- \u001b[1mAttaching packages\u001b[22m ---------------------------------------------- fpp2 2.4 --\n",
      "\n",
      "\u001b[32mv\u001b[39m \u001b[34mggplot2  \u001b[39m 3.3.3     \u001b[32mv\u001b[39m \u001b[34mfma      \u001b[39m 2.4  \n",
      "\u001b[32mv\u001b[39m \u001b[34mforecast \u001b[39m 8.14      \u001b[32mv\u001b[39m \u001b[34mexpsmooth\u001b[39m 2.3  \n",
      "\n",
      "Warning message:\n",
      "\"package 'ggplot2' was built under R version 4.0.4\"\n",
      "Warning message:\n",
      "\"package 'forecast' was built under R version 4.0.4\"\n",
      "Warning message:\n",
      "\"package 'fma' was built under R version 4.0.4\"\n",
      "Warning message:\n",
      "\"package 'expsmooth' was built under R version 4.0.4\"\n",
      "\n",
      "\n"
     ]
    }
   ],
   "source": [
    "library(fpp2)"
   ]
  },
  {
   "cell_type": "code",
   "execution_count": 20,
   "metadata": {},
   "outputs": [
    {
     "ename": "ERROR",
     "evalue": "Error in ggseasonplot(tshouse, year.labels = TRUE, years.labels.left = TRUE): Data are not seasonal\n",
     "output_type": "error",
     "traceback": [
      "Error in ggseasonplot(tshouse, year.labels = TRUE, years.labels.left = TRUE): Data are not seasonal\nTraceback:\n",
      "1. ggseasonplot(tshouse, year.labels = TRUE, years.labels.left = TRUE)",
      "2. stop(\"Data are not seasonal\")"
     ]
    }
   ],
   "source": [
    "ggseasonplot(tshouse, year.labels=TRUE, years.labels.left=TRUE)\n",
    "    ylab('registrations')\n",
    "    ggtitle('Seasonal Plot: house')\n",
    "# Or simply seasonplot(house)"
   ]
  },
  {
   "cell_type": "code",
   "execution_count": null,
   "metadata": {},
   "outputs": [],
   "source": [
    "seasonplot(tshouse)"
   ]
  },
  {
   "cell_type": "markdown",
   "metadata": {},
   "source": [
    "# Seasonal subseries plots"
   ]
  },
  {
   "cell_type": "code",
   "execution_count": 21,
   "metadata": {},
   "outputs": [
    {
     "ename": "ERROR",
     "evalue": "Error in ggsubseriesplot(tshouse): Data are not seasonal\n",
     "output_type": "error",
     "traceback": [
      "Error in ggsubseriesplot(tshouse): Data are not seasonal\nTraceback:\n",
      "1. ggsubseriesplot(tshouse)",
      "2. stop(\"Data are not seasonal\")"
     ]
    }
   ],
   "source": [
    "ggsubseriesplot(tshouse)\n",
    "    ylab('Trips')\n",
    "    ggtitle('Seasonal subseries plot: Trips')\n",
    "# or simply monthplot(trips)"
   ]
  },
  {
   "cell_type": "markdown",
   "metadata": {},
   "source": [
    "# Seasonal Decomposition using Decompose multiplicative"
   ]
  },
  {
   "cell_type": "code",
   "execution_count": 22,
   "metadata": {},
   "outputs": [
    {
     "ename": "ERROR",
     "evalue": "Error in decompose(tshouse, type = \"additive\"): time series has no or less than 2 periods\n",
     "output_type": "error",
     "traceback": [
      "Error in decompose(tshouse, type = \"additive\"): time series has no or less than 2 periods\nTraceback:\n",
      "1. decompose(tshouse, type = \"additive\")",
      "2. stop(\"time series has no or less than 2 periods\")"
     ]
    }
   ],
   "source": [
    "fit.decmult<-decompose(tshouse,type='additive')\n",
    "#fit.decmult\n",
    "#plot(fit.decmult)\n",
    "\n",
    "# We use the multiplicative decomposition because the size of the fluttuation in 2020 is higher than i 2012"
   ]
  },
  {
   "cell_type": "markdown",
   "metadata": {},
   "source": [
    "# Forecasting Using Mean Model"
   ]
  },
  {
   "cell_type": "code",
   "execution_count": 29,
   "metadata": {},
   "outputs": [
    {
     "name": "stderr",
     "output_type": "stream",
     "text": [
      "Warning message:\n",
      "\"package 'fpp2' was built under R version 4.0.4\"\n",
      "Registered S3 method overwritten by 'quantmod':\n",
      "  method            from\n",
      "  as.zoo.data.frame zoo \n",
      "\n",
      "-- \u001b[1mAttaching packages\u001b[22m ---------------------------------------------- fpp2 2.4 --\n",
      "\n",
      "\u001b[32mv\u001b[39m \u001b[34mggplot2  \u001b[39m 3.3.3     \u001b[32mv\u001b[39m \u001b[34mfma      \u001b[39m 2.4  \n",
      "\u001b[32mv\u001b[39m \u001b[34mforecast \u001b[39m 8.14      \u001b[32mv\u001b[39m \u001b[34mexpsmooth\u001b[39m 2.3  \n",
      "\n",
      "Warning message:\n",
      "\"package 'ggplot2' was built under R version 4.0.4\"\n",
      "Warning message:\n",
      "\"package 'forecast' was built under R version 4.0.4\"\n",
      "Warning message:\n",
      "\"package 'fma' was built under R version 4.0.4\"\n",
      "Warning message:\n",
      "\"package 'expsmooth' was built under R version 4.0.4\"\n",
      "\n",
      "\n"
     ]
    }
   ],
   "source": [
    "library(fpp2)"
   ]
  },
  {
   "cell_type": "code",
   "execution_count": 30,
   "metadata": {},
   "outputs": [
    {
     "data": {
      "text/plain": [
       "     Point Forecast     Lo 80    Hi 80     Lo 95    Hi 95\n",
       "2020       18275.33 -5578.056 42128.72 -18708.38 55259.05\n",
       "2021       18275.33 -5578.056 42128.72 -18708.38 55259.05\n",
       "2022       18275.33 -5578.056 42128.72 -18708.38 55259.05"
      ]
     },
     "metadata": {},
     "output_type": "display_data"
    }
   ],
   "source": [
    "fcast.mean<-meanf(tshouse,h=3)\n",
    "fcast.mean"
   ]
  },
  {
   "cell_type": "code",
   "execution_count": 25,
   "metadata": {},
   "outputs": [
    {
     "data": {
      "image/png": "[encoded data removed]",
      "text/plain": [
       "Plot with title \"Forecasts from Mean\""
      ]
     },
     "metadata": {
      "image/png": {
       "height": 420,
       "width": 420
      }
     },
     "output_type": "display_data"
    }
   ],
   "source": [
    "plot(fcast.mean)"
   ]
  },
  {
   "cell_type": "code",
   "execution_count": 26,
   "metadata": {},
   "outputs": [
    {
     "name": "stdout",
     "output_type": "stream",
     "text": [
      "\n",
      "Forecast method: Mean\n",
      "\n",
      "Model Information:\n",
      "$mu\n",
      "[1] 18275.33\n",
      "\n",
      "$mu.se\n",
      "[1] 2792.696\n",
      "\n",
      "$sd\n",
      "[1] 18098.74\n",
      "\n",
      "$bootstrap\n",
      "[1] FALSE\n",
      "\n",
      "$call\n",
      "meanf(y = tshouse, h = 3)\n",
      "\n",
      "attr(,\"class\")\n",
      "[1] \"meanf\"\n",
      "\n",
      "Error measures:\n",
      "                       ME     RMSE      MAE       MPE     MAPE    MASE\n",
      "Training set 1.559007e-12 17881.98 14062.65 -241.9622 271.8443 3.54469\n",
      "                  ACF1\n",
      "Training set 0.9049882\n",
      "\n",
      "Forecasts:\n",
      "     Point Forecast     Lo 80    Hi 80     Lo 95    Hi 95\n",
      "2020       18275.33 -5578.056 42128.72 -18708.38 55259.05\n",
      "2021       18275.33 -5578.056 42128.72 -18708.38 55259.05\n",
      "2022       18275.33 -5578.056 42128.72 -18708.38 55259.05\n"
     ]
    }
   ],
   "source": [
    "summary(fcast.mean)"
   ]
  },
  {
   "cell_type": "code",
   "execution_count": 31,
   "metadata": {},
   "outputs": [
    {
     "data": {
      "image/png": "[encoded data removed]",
      "text/plain": [
       "Plot with title \"Normal Q-Q Plot\""
      ]
     },
     "metadata": {
      "image/png": {
       "height": 420,
       "width": 420
      }
     },
     "output_type": "display_data"
    }
   ],
   "source": [
    "qqnorm(fcast.mean$residuals)\n",
    "qqline(fcast.mean$residuals)"
   ]
  },
  {
   "cell_type": "code",
   "execution_count": 32,
   "metadata": {},
   "outputs": [
    {
     "data": {
      "text/html": [
       "14062.6507936508"
      ],
      "text/latex": [
       "14062.6507936508"
      ],
      "text/markdown": [
       "14062.6507936508"
      ],
      "text/plain": [
       "[1] 14062.65"
      ]
     },
     "metadata": {},
     "output_type": "display_data"
    }
   ],
   "source": [
    "mean(abs(residuals(fcast.mean)))"
   ]
  },
  {
   "cell_type": "markdown",
   "metadata": {},
   "source": [
    "# Forcasting Using Naive Model"
   ]
  },
  {
   "cell_type": "code",
   "execution_count": 33,
   "metadata": {},
   "outputs": [
    {
     "data": {
      "text/plain": [
       "     Point Forecast     Lo 80    Hi 80      Lo 95    Hi 95\n",
       "2020          10784  1214.992 20353.01  -3850.535 25418.54\n",
       "2021          10784 -2748.621 24316.62  -9912.358 31480.36\n",
       "2022          10784 -5790.009 27358.01 -14563.759 36131.76"
      ]
     },
     "metadata": {},
     "output_type": "display_data"
    }
   ],
   "source": [
    "fcast.naive<-naive(tshouse,h=3) #try to change h to 4 and see how the interval increases\n",
    "fcast.naive"
   ]
  },
  {
   "cell_type": "code",
   "execution_count": 34,
   "metadata": {},
   "outputs": [
    {
     "data": {
      "image/png": "[encoded data removed]",
      "text/plain": [
       "Plot with title \"Forecasts from Naive method\""
      ]
     },
     "metadata": {
      "image/png": {
       "height": 420,
       "width": 420
      }
     },
     "output_type": "display_data"
    }
   ],
   "source": [
    "plot(fcast.naive)"
   ]
  },
  {
   "cell_type": "code",
   "execution_count": 35,
   "metadata": {},
   "outputs": [
    {
     "name": "stdout",
     "output_type": "stream",
     "text": [
      "\n",
      "Forecast method: Naive method\n",
      "\n",
      "Model Information:\n",
      "Call: naive(y = tshouse, h = 3) \n",
      "\n",
      "Residual sd: 7466.7369 \n",
      "\n",
      "Error measures:\n",
      "                   ME     RMSE      MAE       MPE     MAPE MASE      ACF1\n",
      "Training set 170.8049 7466.737 3967.244 -7.900382 34.07645    1 0.4216754\n",
      "\n",
      "Forecasts:\n",
      "     Point Forecast     Lo 80    Hi 80      Lo 95    Hi 95\n",
      "2020          10784  1214.992 20353.01  -3850.535 25418.54\n",
      "2021          10784 -2748.621 24316.62  -9912.358 31480.36\n",
      "2022          10784 -5790.009 27358.01 -14563.759 36131.76\n"
     ]
    }
   ],
   "source": [
    "summary(fcast.naive)"
   ]
  },
  {
   "cell_type": "code",
   "execution_count": 36,
   "metadata": {},
   "outputs": [
    {
     "data": {
      "image/png": "[encoded data removed]",
      "text/plain": [
       "Plot with title \"Normal Q-Q Plot\""
      ]
     },
     "metadata": {
      "image/png": {
       "height": 420,
       "width": 420
      }
     },
     "output_type": "display_data"
    }
   ],
   "source": [
    "qqnorm(fcast.naive$residuals)\n",
    "qqline(fcast.naive$residuals)"
   ]
  },
  {
   "cell_type": "markdown",
   "metadata": {},
   "source": [
    "# Forecasting Using Seasonal Naive Model"
   ]
  },
  {
   "cell_type": "code",
   "execution_count": 40,
   "metadata": {},
   "outputs": [
    {
     "data": {
      "text/plain": [
       "     Point Forecast     Lo 80    Hi 80      Lo 95    Hi 95\n",
       "2020          10784  1214.992 20353.01  -3850.535 25418.54\n",
       "2021          10784 -2748.621 24316.62  -9912.358 31480.36\n",
       "2022          10784 -5790.009 27358.01 -14563.759 36131.76\n",
       "2023          10784 -8354.017 29922.02 -18485.071 40053.07"
      ]
     },
     "metadata": {},
     "output_type": "display_data"
    }
   ],
   "source": [
    "fcast.seasonalnaive<-snaive(tshouse,h=4)\n",
    "fcast.seasonalnaive"
   ]
  },
  {
   "cell_type": "code",
   "execution_count": 41,
   "metadata": {},
   "outputs": [
    {
     "data": {
      "image/png": "[encoded data removed]",
      "text/plain": [
       "Plot with title \"Forecasts from Seasonal naive method\""
      ]
     },
     "metadata": {
      "image/png": {
       "height": 420,
       "width": 420
      }
     },
     "output_type": "display_data"
    }
   ],
   "source": [
    "plot(fcast.seasonalnaive)"
   ]
  },
  {
   "cell_type": "code",
   "execution_count": 42,
   "metadata": {},
   "outputs": [
    {
     "name": "stdout",
     "output_type": "stream",
     "text": [
      "\n",
      "Forecast method: Seasonal naive method\n",
      "\n",
      "Model Information:\n",
      "Call: snaive(y = tshouse, h = 4) \n",
      "\n",
      "Residual sd: 7466.7369 \n",
      "\n",
      "Error measures:\n",
      "                   ME     RMSE      MAE       MPE     MAPE MASE      ACF1\n",
      "Training set 170.8049 7466.737 3967.244 -7.900382 34.07645    1 0.4216754\n",
      "\n",
      "Forecasts:\n",
      "     Point Forecast     Lo 80    Hi 80      Lo 95    Hi 95\n",
      "2020          10784  1214.992 20353.01  -3850.535 25418.54\n",
      "2021          10784 -2748.621 24316.62  -9912.358 31480.36\n",
      "2022          10784 -5790.009 27358.01 -14563.759 36131.76\n",
      "2023          10784 -8354.017 29922.02 -18485.071 40053.07\n"
     ]
    }
   ],
   "source": [
    "summary(fcast.seasonalnaive)"
   ]
  },
  {
   "cell_type": "code",
   "execution_count": 43,
   "metadata": {},
   "outputs": [
    {
     "data": {
      "image/png": "[encoded data removed]",
      "text/plain": [
       "Plot with title \"Normal Q-Q Plot\""
      ]
     },
     "metadata": {
      "image/png": {
       "height": 420,
       "width": 420
      }
     },
     "output_type": "display_data"
    }
   ],
   "source": [
    "qqnorm(fcast.seasonalnaive$residuals)\n",
    "qqline(fcast.seasonalnaive$residuals)"
   ]
  },
  {
   "cell_type": "markdown",
   "metadata": {},
   "source": [
    "# Forecasting Using Simple Exponential Smoothing"
   ]
  },
  {
   "cell_type": "code",
   "execution_count": 38,
   "metadata": {},
   "outputs": [
    {
     "data": {
      "text/plain": [
       "     Point Forecast     Lo 80    Hi 80      Lo 95    Hi 95\n",
       "2020       10783.75  1093.883 20473.62  -4035.623 25603.12\n",
       "2021       10783.75 -2916.483 24483.98 -10168.948 31736.45\n",
       "2022       10783.75 -5994.189 27561.69 -14875.894 36443.39"
      ]
     },
     "metadata": {},
     "output_type": "display_data"
    }
   ],
   "source": [
    "fcast.ses<-ses(tshouse, h=3)\n",
    "fcast.ses"
   ]
  },
  {
   "cell_type": "code",
   "execution_count": 39,
   "metadata": {},
   "outputs": [
    {
     "data": {
      "image/png": "[encoded data removed]",
      "text/plain": [
       "Plot with title \"Forecasts from Simple exponential smoothing\""
      ]
     },
     "metadata": {
      "image/png": {
       "height": 420,
       "width": 420
      }
     },
     "output_type": "display_data"
    }
   ],
   "source": [
    "plot(fcast.ses)"
   ]
  },
  {
   "cell_type": "code",
   "execution_count": 40,
   "metadata": {},
   "outputs": [
    {
     "name": "stdout",
     "output_type": "stream",
     "text": [
      "\n",
      "Forecast method: Simple exponential smoothing\n",
      "\n",
      "Model Information:\n",
      "Simple exponential smoothing \n",
      "\n",
      "Call:\n",
      " ses(y = tshouse, h = 3) \n",
      "\n",
      "  Smoothing parameters:\n",
      "    alpha = 0.9995 \n",
      "\n",
      "  Initial states:\n",
      "    l = 3848.3497 \n",
      "\n",
      "  sigma:  7561.043\n",
      "\n",
      "     AIC     AICc      BIC \n",
      "911.1171 911.7487 916.3302 \n",
      "\n",
      "Error measures:\n",
      "                   ME     RMSE      MAE       MPE     MAPE      MASE      ACF1\n",
      "Training set 165.2083 7378.822 3875.789 -7.771767 33.33161 0.9769476 0.4218681\n",
      "\n",
      "Forecasts:\n",
      "     Point Forecast     Lo 80    Hi 80      Lo 95    Hi 95\n",
      "2020       10783.75  1093.883 20473.62  -4035.623 25603.12\n",
      "2021       10783.75 -2916.483 24483.98 -10168.948 31736.45\n",
      "2022       10783.75 -5994.189 27561.69 -14875.894 36443.39\n"
     ]
    }
   ],
   "source": [
    "summary(fcast.ses)"
   ]
  },
  {
   "cell_type": "code",
   "execution_count": 41,
   "metadata": {},
   "outputs": [
    {
     "data": {
      "image/png": "[encoded data removed]",
      "text/plain": [
       "Plot with title \"Normal Q-Q Plot\""
      ]
     },
     "metadata": {
      "image/png": {
       "height": 420,
       "width": 420
      }
     },
     "output_type": "display_data"
    }
   ],
   "source": [
    "qqnorm(fcast.ses$residuals)\n",
    "qqline(fcast.ses$residuals)"
   ]
  },
  {
   "cell_type": "code",
   "execution_count": 42,
   "metadata": {},
   "outputs": [
    {
     "data": {
      "text/html": [
       "3875.78947190966"
      ],
      "text/latex": [
       "3875.78947190966"
      ],
      "text/markdown": [
       "3875.78947190966"
      ],
      "text/plain": [
       "[1] 3875.789"
      ]
     },
     "metadata": {},
     "output_type": "display_data"
    }
   ],
   "source": [
    "mean(abs(residuals(fcast.ses)))"
   ]
  },
  {
   "cell_type": "markdown",
   "metadata": {},
   "source": [
    "# Forecast Using Drift Model"
   ]
  },
  {
   "cell_type": "code",
   "execution_count": 62,
   "metadata": {},
   "outputs": [
    {
     "data": {
      "text/plain": [
       "     Point Forecast     Lo 80    Hi 80      Lo 95    Hi 95\n",
       "2020       10954.80  1269.457 20640.15  -3857.656 25767.27\n",
       "2021       11125.61 -2737.572 24988.79 -10076.297 32327.52\n",
       "2022       11296.41 -5883.387 28476.22 -14977.824 37570.65"
      ]
     },
     "metadata": {},
     "output_type": "display_data"
    },
    {
     "data": {
      "image/png": "[encoded data removed]",
      "text/plain": [
       "Plot with title \"Forecasts from Random walk with drift\""
      ]
     },
     "metadata": {
      "image/png": {
       "height": 420,
       "width": 420
      }
     },
     "output_type": "display_data"
    }
   ],
   "source": [
    "fcast.drift<-rwf(tshouse,h=3, drift=TRUE)\n",
    "fcast.drift\n",
    "plot(fcast.drift)"
   ]
  },
  {
   "cell_type": "code",
   "execution_count": 63,
   "metadata": {},
   "outputs": [
    {
     "data": {
      "text/html": [
       "<table class=\"dataframe\">\n",
       "<caption>A matrix: 1 × 7 of type dbl</caption>\n",
       "<thead>\n",
       "\t<tr><th></th><th scope=col>ME</th><th scope=col>RMSE</th><th scope=col>MAE</th><th scope=col>MPE</th><th scope=col>MAPE</th><th scope=col>MASE</th><th scope=col>ACF1</th></tr>\n",
       "</thead>\n",
       "<tbody>\n",
       "\t<tr><th scope=row>Training set</th><td>2.237844e-14</td><td>7464.783</td><td>3913.086</td><td>-11.0642</td><td>34.70801</td><td>0.9863488</td><td>0.4216754</td></tr>\n",
       "</tbody>\n",
       "</table>\n"
      ],
      "text/latex": [
       "A matrix: 1 × 7 of type dbl\n",
       "\\begin{tabular}{r|lllllll}\n",
       "  & ME & RMSE & MAE & MPE & MAPE & MASE & ACF1\\\\\n",
       "\\hline\n",
       "\tTraining set & 2.237844e-14 & 7464.783 & 3913.086 & -11.0642 & 34.70801 & 0.9863488 & 0.4216754\\\\\n",
       "\\end{tabular}\n"
      ],
      "text/markdown": [
       "\n",
       "A matrix: 1 × 7 of type dbl\n",
       "\n",
       "| <!--/--> | ME | RMSE | MAE | MPE | MAPE | MASE | ACF1 |\n",
       "|---|---|---|---|---|---|---|---|\n",
       "| Training set | 2.237844e-14 | 7464.783 | 3913.086 | -11.0642 | 34.70801 | 0.9863488 | 0.4216754 |\n",
       "\n"
      ],
      "text/plain": [
       "             ME           RMSE     MAE      MPE      MAPE     MASE     \n",
       "Training set 2.237844e-14 7464.783 3913.086 -11.0642 34.70801 0.9863488\n",
       "             ACF1     \n",
       "Training set 0.4216754"
      ]
     },
     "metadata": {},
     "output_type": "display_data"
    }
   ],
   "source": [
    "accuracy(fcast.drift)"
   ]
  },
  {
   "cell_type": "code",
   "execution_count": 64,
   "metadata": {},
   "outputs": [
    {
     "data": {
      "image/png": "[encoded data removed]",
      "text/plain": [
       "Plot with title \"Normal Q-Q Plot\""
      ]
     },
     "metadata": {
      "image/png": {
       "height": 420,
       "width": 420
      }
     },
     "output_type": "display_data"
    }
   ],
   "source": [
    "qqnorm(fcast.drift$residuals)\n",
    "qqline(fcast.drift$residuals)"
   ]
  },
  {
   "cell_type": "code",
   "execution_count": 65,
   "metadata": {},
   "outputs": [
    {
     "data": {
      "text/plain": [
       "\n",
       "\tBox-Ljung test\n",
       "\n",
       "data:  fcast.drift$residuals\n",
       "X-squared = 7.837, df = 1, p-value = 0.005119\n"
      ]
     },
     "metadata": {},
     "output_type": "display_data"
    }
   ],
   "source": [
    "Box.test(fcast.drift$residuals, type='Ljung-Box')"
   ]
  },
  {
   "cell_type": "markdown",
   "metadata": {},
   "source": [
    "# Linear Model"
   ]
  },
  {
   "cell_type": "code",
   "execution_count": 67,
   "metadata": {},
   "outputs": [],
   "source": [
    "houseLM <- lm(tshouse~time(tshouse))"
   ]
  },
  {
   "cell_type": "code",
   "execution_count": 68,
   "metadata": {},
   "outputs": [
    {
     "ename": "ERROR",
     "evalue": "Error in xy.coords(x, y): 'x' and 'y' lengths differ\n",
     "output_type": "error",
     "traceback": [
      "Error in xy.coords(x, y): 'x' and 'y' lengths differ\nTraceback:\n",
      "1. lines(x, y, col = \"red\", lw = 4)",
      "2. lines.default(x, y, col = \"red\", lw = 4)",
      "3. plot.xy(xy.coords(x, y), type = type, ...)",
      "4. xy.coords(x, y)",
      "5. stop(\"'x' and 'y' lengths differ\")"
     ]
    },
    {
     "data": {
      "image/png": "[encoded data removed]",
      "text/plain": [
       "plot without title"
      ]
     },
     "metadata": {
      "image/png": {
       "height": 420,
       "width": 420
      }
     },
     "output_type": "display_data"
    }
   ],
   "source": [
    "plot(fhouse, col='blue')\n",
    "x <- as.vector(time(fhouse))\n",
    "y <- predict.lm(houseLM)\n",
    "lines(x, y, col='red', lw=4)"
   ]
  },
  {
   "cell_type": "markdown",
   "metadata": {},
   "source": [
    "# Moving Averages"
   ]
  },
  {
   "cell_type": "markdown",
   "metadata": {},
   "source": [
    "An overlay plot shows how the moving average can be used to smooth out the seasonal element:"
   ]
  },
  {
   "cell_type": "code",
   "execution_count": 70,
   "metadata": {},
   "outputs": [
    {
     "data": {
      "image/png": "[encoded data removed]",
      "text/plain": [
       "plot without title"
      ]
     },
     "metadata": {
      "image/png": {
       "height": 420,
       "width": 420
      }
     },
     "output_type": "display_data"
    }
   ],
   "source": [
    "plot(tshouse, col='blue')\n",
    "x <- as.vector(time(tshouse))\n",
    "y <- ma(tshouse, order=6)\n",
    "lines(x, y, col='red', lw=4)\n",
    "y <- ma(tshouse, order=24)\n",
    "lines(x, y, col='black', lw=4)"
   ]
  },
  {
   "cell_type": "markdown",
   "metadata": {},
   "source": [
    "An overlay of the linear model with the above trendline from the moving averages looks like this:"
   ]
  },
  {
   "cell_type": "code",
   "execution_count": 71,
   "metadata": {},
   "outputs": [
    {
     "data": {
      "image/png": "[encoded data removed]",
      "text/plain": [
       "plot without title"
      ]
     },
     "metadata": {
      "image/png": {
       "height": 420,
       "width": 420
      }
     },
     "output_type": "display_data"
    }
   ],
   "source": [
    "plot(tshouse, col='blue')\n",
    "x <- as.vector(time(tshouse))\n",
    "y <- predict.lm(houseLM)\n",
    "lines(x, y, col='red', lw=4)\n",
    "y <- ma(tshouse, order=24)\n",
    "lines(x, y, col='black', lw=4)"
   ]
  },
  {
   "cell_type": "markdown",
   "metadata": {},
   "source": [
    "# Logarithmic Model"
   ]
  },
  {
   "cell_type": "code",
   "execution_count": 72,
   "metadata": {},
   "outputs": [],
   "source": [
    "loghouse <- log(tshouse)"
   ]
  },
  {
   "cell_type": "code",
   "execution_count": 73,
   "metadata": {},
   "outputs": [
    {
     "data": {
      "image/png": "[encoded data removed]",
      "text/plain": [
       "plot without title"
      ]
     },
     "metadata": {
      "image/png": {
       "height": 420,
       "width": 420
      }
     },
     "output_type": "display_data"
    }
   ],
   "source": [
    "plot(loghouse, col='blue')\n",
    "x <- as.vector(time(loghouse))\n",
    "y <- predict.lm(houseLM)\n",
    "lines(x, y, col='red', lw=4)"
   ]
  },
  {
   "cell_type": "markdown",
   "metadata": {},
   "source": [
    "# Exponential smoothing model"
   ]
  },
  {
   "cell_type": "markdown",
   "metadata": {},
   "source": [
    "- Since the time serie has level, trend and seasonal components, we usea triple exponential model, Holt-Winters exponential smoothing\n",
    "\n",
    "- Since the fluttuations in the end of the graph are bigger than in the beginning, we use the multiplicative version\n",
    "- The plot contains the confidence interval of 80 and 95%"
   ]
  },
  {
   "cell_type": "markdown",
   "metadata": {},
   "source": [
    "Additive"
   ]
  },
  {
   "cell_type": "code",
   "execution_count": 74,
   "metadata": {},
   "outputs": [
    {
     "ename": "ERROR",
     "evalue": "Error in hw(tshouse, seasonal = \"additive\"): The time series should have frequency greater than 1.\n",
     "output_type": "error",
     "traceback": [
      "Error in hw(tshouse, seasonal = \"additive\"): The time series should have frequency greater than 1.\nTraceback:\n",
      "1. hw(tshouse, seasonal = \"additive\")",
      "2. stop(\"The time series should have frequency greater than 1.\")"
     ]
    }
   ],
   "source": [
    "fitAdd <- hw(tshouse, seasonal='additive')\n",
    "summary(fitAdd)"
   ]
  },
  {
   "cell_type": "code",
   "execution_count": 75,
   "metadata": {},
   "outputs": [
    {
     "ename": "ERROR",
     "evalue": "Error in residuals(fitAdd): object 'fitAdd' not found\n",
     "output_type": "error",
     "traceback": [
      "Error in residuals(fitAdd): object 'fitAdd' not found\nTraceback:\n",
      "1. mean(abs(residuals(fitAdd)))",
      "2. residuals(fitAdd)"
     ]
    }
   ],
   "source": [
    "mean(abs(residuals(fitAdd)))"
   ]
  },
  {
   "cell_type": "markdown",
   "metadata": {},
   "source": [
    "Multiplicative"
   ]
  },
  {
   "cell_type": "code",
   "execution_count": 58,
   "metadata": {},
   "outputs": [
    {
     "ename": "ERROR",
     "evalue": "Error in hw(tshouse, seasonal = \"multiplicative\"): The time series should have frequency greater than 1.\n",
     "output_type": "error",
     "traceback": [
      "Error in hw(tshouse, seasonal = \"multiplicative\"): The time series should have frequency greater than 1.\nTraceback:\n",
      "1. hw(tshouse, seasonal = \"multiplicative\")",
      "2. stop(\"The time series should have frequency greater than 1.\")"
     ]
    }
   ],
   "source": [
    "fitMult <- hw(tshouse, seasonal='multiplicative')\n",
    "autoplot(trips)+autolayer(fitMult, title=\"Holt Winter Multiplicative Forecast\")"
   ]
  },
  {
   "cell_type": "code",
   "execution_count": 77,
   "metadata": {},
   "outputs": [
    {
     "ename": "ERROR",
     "evalue": "Error in summary(fitMult): object 'fitMult' not found\n",
     "output_type": "error",
     "traceback": [
      "Error in summary(fitMult): object 'fitMult' not found\nTraceback:\n",
      "1. summary(fitMult)"
     ]
    }
   ],
   "source": [
    "summary(fitMult)"
   ]
  },
  {
   "cell_type": "code",
   "execution_count": 78,
   "metadata": {},
   "outputs": [
    {
     "ename": "ERROR",
     "evalue": "Error in eval(expr, envir, enclos): object 'fitMult' not found\n",
     "output_type": "error",
     "traceback": [
      "Error in eval(expr, envir, enclos): object 'fitMult' not found\nTraceback:\n"
     ]
    }
   ],
   "source": [
    "names(fitMult)"
   ]
  },
  {
   "cell_type": "code",
   "execution_count": 79,
   "metadata": {},
   "outputs": [
    {
     "ename": "ERROR",
     "evalue": "Error in residuals(fitMult): object 'fitMult' not found\n",
     "output_type": "error",
     "traceback": [
      "Error in residuals(fitMult): object 'fitMult' not found\nTraceback:\n",
      "1. mean(abs(residuals(fitMult)))",
      "2. residuals(fitMult)"
     ]
    }
   ],
   "source": [
    "mean(abs(residuals(fitMult)))"
   ]
  },
  {
   "cell_type": "markdown",
   "metadata": {},
   "source": [
    "# Esponential smooting model using Automatic model"
   ]
  },
  {
   "cell_type": "code",
   "execution_count": 44,
   "metadata": {},
   "outputs": [],
   "source": [
    "fitAuto <- ets(tshouse, model='ZZZ')"
   ]
  },
  {
   "cell_type": "code",
   "execution_count": 45,
   "metadata": {},
   "outputs": [
    {
     "data": {
      "text/plain": [
       "ETS(M,A,N) \n",
       "\n",
       "Call:\n",
       " ets(y = tshouse, model = \"ZZZ\") \n",
       "\n",
       "  Smoothing parameters:\n",
       "    alpha = 0.9999 \n",
       "    beta  = 1e-04 \n",
       "\n",
       "  Initial states:\n",
       "    l = 6959.6429 \n",
       "    b = 274.5675 \n",
       "\n",
       "  sigma:  0.3675\n",
       "\n",
       "     AIC     AICc      BIC \n",
       "863.4752 865.1418 872.1635 "
      ]
     },
     "metadata": {},
     "output_type": "display_data"
    }
   ],
   "source": [
    "fitAuto"
   ]
  },
  {
   "cell_type": "code",
   "execution_count": 90,
   "metadata": {},
   "outputs": [
    {
     "name": "stdout",
     "output_type": "stream",
     "text": [
      "ETS(M,A,N) \n",
      "\n",
      "Call:\n",
      " ets(y = tshouse, model = \"ZZZ\") \n",
      "\n",
      "  Smoothing parameters:\n",
      "    alpha = 0.9999 \n",
      "    beta  = 1e-04 \n",
      "\n",
      "  Initial states:\n",
      "    l = 6959.6429 \n",
      "    b = 274.5675 \n",
      "\n",
      "  sigma:  0.3675\n",
      "\n",
      "     AIC     AICc      BIC \n",
      "863.4752 865.1418 872.1635 \n",
      "\n",
      "Training set error measures:\n",
      "                    ME     RMSE      MAE       MPE     MAPE     MASE      ACF1\n",
      "Training set -184.0889 7395.984 3870.015 -14.83976 36.43003 0.975492 0.4173692\n"
     ]
    }
   ],
   "source": [
    "summary(fitAuto)"
   ]
  },
  {
   "cell_type": "code",
   "execution_count": 91,
   "metadata": {},
   "outputs": [
    {
     "data": {
      "text/html": [
       "0.26594420932723"
      ],
      "text/latex": [
       "0.26594420932723"
      ],
      "text/markdown": [
       "0.26594420932723"
      ],
      "text/plain": [
       "[1] 0.2659442"
      ]
     },
     "metadata": {},
     "output_type": "display_data"
    }
   ],
   "source": [
    "mean(abs(residuals(fitAuto)))"
   ]
  },
  {
   "cell_type": "code",
   "execution_count": 92,
   "metadata": {},
   "outputs": [
    {
     "data": {
      "image/png": "[encoded data removed]",
      "text/plain": [
       "plot without title"
      ]
     },
     "metadata": {
      "image/png": {
       "height": 420,
       "width": 420
      }
     },
     "output_type": "display_data"
    }
   ],
   "source": [
    "#plot(tshouse, col='blue')\n",
    "plot(fitAuto)\n",
    "#x <- as.vector(time(tshouse))\n",
    "#y <- ma(fhouse, order=6)\n",
    "#lines(x, y, col='red', lw=4)\n",
    "#y <- ma(fhouse, order=24)\n",
    "#lines(x, y, col='black', lw=4)"
   ]
  },
  {
   "cell_type": "code",
   "execution_count": 93,
   "metadata": {},
   "outputs": [
    {
     "ename": "ERROR",
     "evalue": "Error in parse(text = x, srcfile = src): <text>:1:15: unexpected symbol\n1: decomposition by\n                  ^\n",
     "output_type": "error",
     "traceback": [
      "Error in parse(text = x, srcfile = src): <text>:1:15: unexpected symbol\n1: decomposition by\n                  ^\nTraceback:\n"
     ]
    }
   ],
   "source": [
    "decomposition by ETS(MAN)\n",
    "error: multiplicative\n",
    "trend: additive \n",
    "season: none\n"
   ]
  },
  {
   "cell_type": "code",
   "execution_count": 94,
   "metadata": {},
   "outputs": [
    {
     "data": {
      "image/png": "[encoded data removed]",
      "text/plain": [
       "plot without title"
      ]
     },
     "metadata": {
      "image/png": {
       "height": 420,
       "width": 420
      }
     },
     "output_type": "display_data"
    }
   ],
   "source": [
    "plot(fitAuto$residuals)"
   ]
  },
  {
   "cell_type": "code",
   "execution_count": 86,
   "metadata": {},
   "outputs": [
    {
     "data": {
      "image/png": "[encoded data removed]",
      "text/plain": [
       "Plot with title \"Normal Q-Q Plot\""
      ]
     },
     "metadata": {
      "image/png": {
       "height": 420,
       "width": 420
      }
     },
     "output_type": "display_data"
    }
   ],
   "source": [
    "qqnorm(fitAuto$residuals)\n",
    "qqline(fitAuto$residuals)"
   ]
  },
  {
   "cell_type": "code",
   "execution_count": 95,
   "metadata": {},
   "outputs": [
    {
     "data": {
      "text/html": [
       "<table class=\"dataframe\">\n",
       "<caption>A matrix: 1 × 7 of type dbl</caption>\n",
       "<thead>\n",
       "\t<tr><th></th><th scope=col>ME</th><th scope=col>RMSE</th><th scope=col>MAE</th><th scope=col>MPE</th><th scope=col>MAPE</th><th scope=col>MASE</th><th scope=col>ACF1</th></tr>\n",
       "</thead>\n",
       "<tbody>\n",
       "\t<tr><th scope=row>Training set</th><td>-184.0889</td><td>7395.984</td><td>3870.015</td><td>-14.83976</td><td>36.43003</td><td>0.975492</td><td>0.4173692</td></tr>\n",
       "</tbody>\n",
       "</table>\n"
      ],
      "text/latex": [
       "A matrix: 1 × 7 of type dbl\n",
       "\\begin{tabular}{r|lllllll}\n",
       "  & ME & RMSE & MAE & MPE & MAPE & MASE & ACF1\\\\\n",
       "\\hline\n",
       "\tTraining set & -184.0889 & 7395.984 & 3870.015 & -14.83976 & 36.43003 & 0.975492 & 0.4173692\\\\\n",
       "\\end{tabular}\n"
      ],
      "text/markdown": [
       "\n",
       "A matrix: 1 × 7 of type dbl\n",
       "\n",
       "| <!--/--> | ME | RMSE | MAE | MPE | MAPE | MASE | ACF1 |\n",
       "|---|---|---|---|---|---|---|---|\n",
       "| Training set | -184.0889 | 7395.984 | 3870.015 | -14.83976 | 36.43003 | 0.975492 | 0.4173692 |\n",
       "\n"
      ],
      "text/plain": [
       "             ME        RMSE     MAE      MPE       MAPE     MASE     ACF1     \n",
       "Training set -184.0889 7395.984 3870.015 -14.83976 36.43003 0.975492 0.4173692"
      ]
     },
     "metadata": {},
     "output_type": "display_data"
    }
   ],
   "source": [
    "accuracy(fitAuto)"
   ]
  },
  {
   "cell_type": "code",
   "execution_count": 96,
   "metadata": {},
   "outputs": [
    {
     "data": {
      "text/plain": [
       "     Point Forecast       Lo 80    Hi 80       Lo 95    Hi 95\n",
       "2020       11057.77   5850.3987 16265.14   3093.7831 19021.76\n",
       "2021       11331.56   3633.8731 19029.25   -441.0383 23104.17\n",
       "2022       11605.36   1749.8726 21460.84  -3467.3064 26678.02\n",
       "2023       11879.15    -18.5119 23776.82  -6316.7550 30075.06\n",
       "2024       12152.95  -1755.4891 26061.38  -9118.1704 33424.06\n",
       "2025       12426.74  -3505.7422 28359.22 -11939.8895 36793.37\n",
       "2026       12700.54  -5297.7054 30698.78 -14825.3986 40226.47\n",
       "2027       12974.33  -7151.9364 33100.60 -17806.1381 43754.80\n",
       "2028       13248.12  -9084.8018 35581.05 -20907.1386 47403.39\n",
       "2029       13521.92 -11110.3325 38154.17 -24149.8585 51193.70"
      ]
     },
     "metadata": {},
     "output_type": "display_data"
    }
   ],
   "source": [
    "forecast(fitAuto)"
   ]
  },
  {
   "cell_type": "markdown",
   "metadata": {},
   "source": [
    "Mean absolute residual for:<br> \n",
    "\n",
    "additive:       63.386199609152<br> \n",
    "multiplicative: 0.0270278125965879<br> \n",
    "ets automatic:0.0200786644284957<br> \n",
    "\n",
    "AIC for:<br>\n",
    "\n",
    "additive:       406.5767 <br> \n",
    "multiplicative: 402.0749 <br> \n",
    "ets automatic : 378.8267 <br> "
   ]
  },
  {
   "cell_type": "markdown",
   "metadata": {},
   "source": [
    "# ARIMA"
   ]
  },
  {
   "cell_type": "code",
   "execution_count": 97,
   "metadata": {},
   "outputs": [
    {
     "name": "stderr",
     "output_type": "stream",
     "text": [
      "\n",
      "Attaching package: 'aTSA'\n",
      "\n",
      "\n",
      "The following object is masked from 'package:forecast':\n",
      "\n",
      "    forecast\n",
      "\n",
      "\n",
      "The following object is masked from 'package:graphics':\n",
      "\n",
      "    identify\n",
      "\n",
      "\n"
     ]
    }
   ],
   "source": [
    "library(aTSA)"
   ]
  },
  {
   "cell_type": "code",
   "execution_count": 98,
   "metadata": {},
   "outputs": [
    {
     "data": {
      "text/html": [
       "<style>\n",
       ".list-inline {list-style: none; margin:0; padding: 0}\n",
       ".list-inline>li {display: inline-block}\n",
       ".list-inline>li:not(:last-child)::after {content: \"\\00b7\"; padding: 0 .5ex}\n",
       "</style>\n",
       "<ol class=list-inline><li>2019</li><li>1</li></ol>\n"
      ],
      "text/latex": [
       "\\begin{enumerate*}\n",
       "\\item 2019\n",
       "\\item 1\n",
       "\\end{enumerate*}\n"
      ],
      "text/markdown": [
       "1. 2019\n",
       "2. 1\n",
       "\n",
       "\n"
      ],
      "text/plain": [
       "[1] 2019    1"
      ]
     },
     "metadata": {},
     "output_type": "display_data"
    }
   ],
   "source": [
    "end(tshouse)"
   ]
  },
  {
   "cell_type": "code",
   "execution_count": 99,
   "metadata": {},
   "outputs": [
    {
     "name": "stdout",
     "output_type": "stream",
     "text": [
      "Augmented Dickey-Fuller Test \n",
      "alternative: stationary \n",
      " \n",
      "Type 1: no drift no trend \n",
      "     lag    ADF p.value\n",
      "[1,]   0 -0.882   0.358\n",
      "[2,]   1 -1.430   0.163\n",
      "[3,]   2 -1.360   0.188\n",
      "[4,]   3 -1.367   0.185\n",
      "Type 2: with drift no trend \n",
      "     lag   ADF p.value\n",
      "[1,]   0 -1.41   0.545\n",
      "[2,]   1 -2.18   0.261\n",
      "[3,]   2 -2.07   0.302\n",
      "[4,]   3 -2.20   0.256\n",
      "Type 3: with drift and trend \n",
      "     lag   ADF p.value\n",
      "[1,]   0 -1.31   0.846\n",
      "[2,]   1 -2.11   0.517\n",
      "[3,]   2 -2.01   0.559\n",
      "[4,]   3 -2.13   0.511\n",
      "---- \n",
      "Note: in fact, p.value = 0.01 means p.value <= 0.01 \n"
     ]
    }
   ],
   "source": [
    "adf.test(tshouse)"
   ]
  },
  {
   "cell_type": "code",
   "execution_count": 100,
   "metadata": {},
   "outputs": [
    {
     "data": {
      "text/html": [
       "0"
      ],
      "text/latex": [
       "0"
      ],
      "text/markdown": [
       "0"
      ],
      "text/plain": [
       "[1] 0"
      ]
     },
     "metadata": {},
     "output_type": "display_data"
    }
   ],
   "source": [
    "ndiffs(tshouse)"
   ]
  },
  {
   "cell_type": "code",
   "execution_count": null,
   "metadata": {},
   "outputs": [],
   "source": [
    "dhouse<-diff(tshouse)"
   ]
  },
  {
   "cell_type": "code",
   "execution_count": null,
   "metadata": {},
   "outputs": [],
   "source": [
    "plot(dhouse)"
   ]
  },
  {
   "cell_type": "code",
   "execution_count": null,
   "metadata": {},
   "outputs": [],
   "source": [
    "adf.test(dhouse)"
   ]
  },
  {
   "cell_type": "code",
   "execution_count": null,
   "metadata": {},
   "outputs": [],
   "source": [
    "ddhouse<-diff(dhouse)"
   ]
  },
  {
   "cell_type": "code",
   "execution_count": null,
   "metadata": {},
   "outputs": [],
   "source": [
    "plot(ddhouse)"
   ]
  },
  {
   "cell_type": "code",
   "execution_count": null,
   "metadata": {},
   "outputs": [],
   "source": [
    "adf.test(ddhouse)"
   ]
  },
  {
   "cell_type": "code",
   "execution_count": null,
   "metadata": {},
   "outputs": [],
   "source": [
    "dddhouse<-diff(ddhouse)"
   ]
  },
  {
   "cell_type": "code",
   "execution_count": null,
   "metadata": {},
   "outputs": [],
   "source": [
    "plot(dddhouse)"
   ]
  },
  {
   "cell_type": "code",
   "execution_count": null,
   "metadata": {},
   "outputs": [],
   "source": [
    "adf.test(dddhouse)"
   ]
  },
  {
   "cell_type": "markdown",
   "metadata": {},
   "source": [
    "# autoarima"
   ]
  },
  {
   "cell_type": "code",
   "execution_count": 47,
   "metadata": {},
   "outputs": [],
   "source": [
    "library(fpp2)"
   ]
  },
  {
   "cell_type": "code",
   "execution_count": 48,
   "metadata": {},
   "outputs": [],
   "source": [
    "fitAutoArima <- auto.arima(tshouse)"
   ]
  },
  {
   "cell_type": "code",
   "execution_count": 49,
   "metadata": {},
   "outputs": [
    {
     "data": {
      "text/plain": [
       "Series: tshouse \n",
       "ARIMA(2,0,0) with non-zero mean \n",
       "\n",
       "Coefficients:\n",
       "         ar1      ar2       mean\n",
       "      1.3346  -0.4665  16791.106\n",
       "s.e.  0.1315   0.1319   6985.181\n",
       "\n",
       "sigma^2 estimated as 43317727:  log likelihood=-428.43\n",
       "AIC=864.86   AICc=865.94   BIC=871.81"
      ]
     },
     "metadata": {},
     "output_type": "display_data"
    }
   ],
   "source": [
    "fitAutoArima"
   ]
  },
  {
   "cell_type": "code",
   "execution_count": 50,
   "metadata": {},
   "outputs": [
    {
     "name": "stdout",
     "output_type": "stream",
     "text": [
      "Series: tshouse \n",
      "ARIMA(2,0,0) with non-zero mean \n",
      "\n",
      "Coefficients:\n",
      "         ar1      ar2       mean\n",
      "      1.3346  -0.4665  16791.106\n",
      "s.e.  0.1315   0.1319   6985.181\n",
      "\n",
      "sigma^2 estimated as 43317727:  log likelihood=-428.43\n",
      "AIC=864.86   AICc=865.94   BIC=871.81\n",
      "\n",
      "Training set error measures:\n",
      "                   ME     RMSE      MAE       MPE     MAPE      MASE\n",
      "Training set 207.1252 6342.208 3464.418 -20.20197 35.95662 0.8732557\n",
      "                     ACF1\n",
      "Training set -0.007018081\n"
     ]
    }
   ],
   "source": [
    "summary(fitAutoArima)"
   ]
  },
  {
   "cell_type": "code",
   "execution_count": 51,
   "metadata": {},
   "outputs": [
    {
     "data": {
      "text/html": [
       "<table class=\"dataframe\">\n",
       "<caption>A matrix: 1 × 7 of type dbl</caption>\n",
       "<thead>\n",
       "\t<tr><th></th><th scope=col>ME</th><th scope=col>RMSE</th><th scope=col>MAE</th><th scope=col>MPE</th><th scope=col>MAPE</th><th scope=col>MASE</th><th scope=col>ACF1</th></tr>\n",
       "</thead>\n",
       "<tbody>\n",
       "\t<tr><th scope=row>Training set</th><td>207.1252</td><td>6342.208</td><td>3464.418</td><td>-20.20197</td><td>35.95662</td><td>0.8732557</td><td>-0.007018081</td></tr>\n",
       "</tbody>\n",
       "</table>\n"
      ],
      "text/latex": [
       "A matrix: 1 × 7 of type dbl\n",
       "\\begin{tabular}{r|lllllll}\n",
       "  & ME & RMSE & MAE & MPE & MAPE & MASE & ACF1\\\\\n",
       "\\hline\n",
       "\tTraining set & 207.1252 & 6342.208 & 3464.418 & -20.20197 & 35.95662 & 0.8732557 & -0.007018081\\\\\n",
       "\\end{tabular}\n"
      ],
      "text/markdown": [
       "\n",
       "A matrix: 1 × 7 of type dbl\n",
       "\n",
       "| <!--/--> | ME | RMSE | MAE | MPE | MAPE | MASE | ACF1 |\n",
       "|---|---|---|---|---|---|---|---|\n",
       "| Training set | 207.1252 | 6342.208 | 3464.418 | -20.20197 | 35.95662 | 0.8732557 | -0.007018081 |\n",
       "\n"
      ],
      "text/plain": [
       "             ME       RMSE     MAE      MPE       MAPE     MASE     \n",
       "Training set 207.1252 6342.208 3464.418 -20.20197 35.95662 0.8732557\n",
       "             ACF1        \n",
       "Training set -0.007018081"
      ]
     },
     "metadata": {},
     "output_type": "display_data"
    }
   ],
   "source": [
    "accuracy(fitAutoArima)"
   ]
  },
  {
   "cell_type": "code",
   "execution_count": 52,
   "metadata": {},
   "outputs": [
    {
     "data": {
      "image/png": "[encoded data removed]",
      "text/plain": [
       "plot without title"
      ]
     },
     "metadata": {
      "image/png": {
       "height": 420,
       "width": 420
      }
     },
     "output_type": "display_data"
    }
   ],
   "source": [
    "plot(fitAutoArima$residuals)"
   ]
  },
  {
   "cell_type": "code",
   "execution_count": 53,
   "metadata": {},
   "outputs": [
    {
     "data": {
      "image/png": "[encoded data removed]",
      "text/plain": [
       "Plot with title \"Normal Q-Q Plot\""
      ]
     },
     "metadata": {
      "image/png": {
       "height": 420,
       "width": 420
      }
     },
     "output_type": "display_data"
    }
   ],
   "source": [
    "qqnorm(fitAutoArima$residuals)\n",
    "qqline(fitAutoArima$residuals)"
   ]
  },
  {
   "cell_type": "code",
   "execution_count": 54,
   "metadata": {},
   "outputs": [],
   "source": [
    "fitArima <- arima(tshouse, order=c(2,0,0))"
   ]
  },
  {
   "cell_type": "code",
   "execution_count": 55,
   "metadata": {},
   "outputs": [
    {
     "name": "stdout",
     "output_type": "stream",
     "text": [
      "\n",
      "Call:\n",
      "arima(x = tshouse, order = c(2, 0, 0))\n",
      "\n",
      "Coefficients:\n",
      "         ar1      ar2  intercept\n",
      "      1.3346  -0.4665  16791.106\n",
      "s.e.  0.1315   0.1319   6985.181\n",
      "\n",
      "sigma^2 estimated as 40223604:  log likelihood = -428.43,  aic = 864.86\n",
      "\n",
      "Training set error measures:\n",
      "                   ME     RMSE      MAE       MPE     MAPE      MASE\n",
      "Training set 207.1252 6342.208 3464.418 -20.20197 35.95662 0.8732557\n",
      "                     ACF1\n",
      "Training set -0.007018081\n"
     ]
    }
   ],
   "source": [
    "summary(fitArima)"
   ]
  },
  {
   "cell_type": "code",
   "execution_count": 56,
   "metadata": {},
   "outputs": [
    {
     "data": {
      "text/plain": [
       "     Point Forecast      Lo 80    Hi 80       Lo 95    Hi 95\n",
       "2020       11818.59  3690.7213 19946.45   -611.9114 24249.09\n",
       "2021       12957.23  -597.4834 26511.94  -7772.9139 33687.37\n",
       "2022       13994.20 -3265.7182 31254.12 -12402.5665 40390.96"
      ]
     },
     "metadata": {},
     "output_type": "display_data"
    }
   ],
   "source": [
    "forecast(fitArima,3)"
   ]
  },
  {
   "cell_type": "code",
   "execution_count": null,
   "metadata": {},
   "outputs": [],
   "source": []
  },
  {
   "cell_type": "code",
   "execution_count": null,
   "metadata": {},
   "outputs": [],
   "source": []
  }
 ],
 "metadata": {
  "kernelspec": {
   "display_name": "R 4.0.3",
   "language": "R",
   "name": "ir35"
  },
  "language_info": {
   "codemirror_mode": "r",
   "file_extension": ".r",
   "mimetype": "text/x-r-source",
   "name": "R",
   "pygments_lexer": "r",
   "version": "4.0.3"
  },
  "latex_envs": {
   "LaTeX_envs_menu_present": true,
   "autoclose": false,
   "autocomplete": true,
   "bibliofile": "biblio.bib",
   "cite_by": "apalike",
   "current_citInitial": 1,
   "eqLabelWithNumbers": true,
   "eqNumInitial": 1,
   "hotkeys": {
    "equation": "Ctrl-E",
    "itemize": "Ctrl-I"
   },
   "labels_anchors": false,
   "latex_user_defs": false,
   "report_style_numbering": false,
   "user_envs_cfg": false
  },
  "toc": {
   "base_numbering": 1,
   "nav_menu": {},
   "number_sections": true,
   "sideBar": true,
   "skip_h1_title": false,
   "title_cell": "Table of Contents",
   "title_sidebar": "Contents",
   "toc_cell": false,
   "toc_position": {},
   "toc_section_display": true,
   "toc_window_display": false
  }
 },
 "nbformat": 4,
 "nbformat_minor": 4
}
